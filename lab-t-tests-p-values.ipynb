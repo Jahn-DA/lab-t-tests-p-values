{
 "cells": [
  {
   "cell_type": "code",
   "execution_count": 1,
   "id": "9477b6fd",
   "metadata": {},
   "outputs": [],
   "source": [
    "import pandas as pd\n",
    "import numpy as np\n",
    "import scipy.stats as st\n",
    "import matplotlib.pyplot as plt\n",
    "import seaborn as sns"
   ]
  },
  {
   "cell_type": "code",
   "execution_count": 2,
   "id": "e432f5c5",
   "metadata": {},
   "outputs": [],
   "source": [
    "data = pd.read_csv('/Users/jxhn/Desktop/IRONHACK/Week_7/Day_2/Afternoon/lab-t-tests-p-values/files_for_lab/machine2.txt', sep='\\t')"
   ]
  },
  {
   "cell_type": "code",
   "execution_count": 3,
   "id": "d5c567e9",
   "metadata": {},
   "outputs": [
    {
     "data": {
      "text/html": [
       "<div>\n",
       "<style scoped>\n",
       "    .dataframe tbody tr th:only-of-type {\n",
       "        vertical-align: middle;\n",
       "    }\n",
       "\n",
       "    .dataframe tbody tr th {\n",
       "        vertical-align: top;\n",
       "    }\n",
       "\n",
       "    .dataframe thead th {\n",
       "        text-align: right;\n",
       "    }\n",
       "</style>\n",
       "<table border=\"1\" class=\"dataframe\">\n",
       "  <thead>\n",
       "    <tr style=\"text-align: right;\">\n",
       "      <th></th>\n",
       "      <th>New machine</th>\n",
       "      <th>Old machine</th>\n",
       "    </tr>\n",
       "  </thead>\n",
       "  <tbody>\n",
       "    <tr>\n",
       "      <th>0</th>\n",
       "      <td>42.1</td>\n",
       "      <td>42.7</td>\n",
       "    </tr>\n",
       "    <tr>\n",
       "      <th>1</th>\n",
       "      <td>41.0</td>\n",
       "      <td>43.6</td>\n",
       "    </tr>\n",
       "    <tr>\n",
       "      <th>2</th>\n",
       "      <td>41.3</td>\n",
       "      <td>43.8</td>\n",
       "    </tr>\n",
       "    <tr>\n",
       "      <th>3</th>\n",
       "      <td>41.8</td>\n",
       "      <td>43.3</td>\n",
       "    </tr>\n",
       "    <tr>\n",
       "      <th>4</th>\n",
       "      <td>42.4</td>\n",
       "      <td>42.5</td>\n",
       "    </tr>\n",
       "    <tr>\n",
       "      <th>5</th>\n",
       "      <td>42.8</td>\n",
       "      <td>43.5</td>\n",
       "    </tr>\n",
       "    <tr>\n",
       "      <th>6</th>\n",
       "      <td>43.2</td>\n",
       "      <td>43.1</td>\n",
       "    </tr>\n",
       "    <tr>\n",
       "      <th>7</th>\n",
       "      <td>42.3</td>\n",
       "      <td>41.7</td>\n",
       "    </tr>\n",
       "    <tr>\n",
       "      <th>8</th>\n",
       "      <td>41.8</td>\n",
       "      <td>44.0</td>\n",
       "    </tr>\n",
       "    <tr>\n",
       "      <th>9</th>\n",
       "      <td>42.7</td>\n",
       "      <td>44.1</td>\n",
       "    </tr>\n",
       "  </tbody>\n",
       "</table>\n",
       "</div>"
      ],
      "text/plain": [
       "   New machine      Old machine\n",
       "0         42.1             42.7\n",
       "1         41.0             43.6\n",
       "2         41.3             43.8\n",
       "3         41.8             43.3\n",
       "4         42.4             42.5\n",
       "5         42.8             43.5\n",
       "6         43.2             43.1\n",
       "7         42.3             41.7\n",
       "8         41.8             44.0\n",
       "9         42.7             44.1"
      ]
     },
     "execution_count": 3,
     "metadata": {},
     "output_type": "execute_result"
    }
   ],
   "source": [
    "data"
   ]
  },
  {
   "cell_type": "code",
   "execution_count": 4,
   "id": "0f991051",
   "metadata": {
    "scrolled": true
   },
   "outputs": [
    {
     "name": "stdout",
     "output_type": "stream",
     "text": [
      "The t statistic of our sample is: 153.34 and the corresponding one-tailed p-value is: 0.00\n"
     ]
    }
   ],
   "source": [
    "# Selecting the 'New machine' column for the one-sample t-test and converting it to a NumPy array\n",
    "sample = data['New machine'].values\n",
    "\n",
    "# Performing one-sample t-test\n",
    "popmean = 9  # Population mean for comparison\n",
    "t_statistic, p_value = st.ttest_1samp(sample, popmean=popmean)\n",
    "\n",
    "# One-tailed test - dividing p-value by 2 to get the one-tailed p-value\n",
    "one_tailed_p_value = p_value / 2\n",
    "\n",
    "# Printing the results\n",
    "print(\"The t statistic of our sample is: {:.2f} and the corresponding one-tailed p-value is: {:.2f}\".format(t_statistic, one_tailed_p_value))"
   ]
  },
  {
   "cell_type": "code",
   "execution_count": 12,
   "id": "05fd2d69",
   "metadata": {},
   "outputs": [
    {
     "name": "stdout",
     "output_type": "stream",
     "text": [
      "The t statistic of our sample is: 185.72 and the corresponding p-value is: 0.00\n"
     ]
    }
   ],
   "source": [
    "t_statistic, p_value = st.ttest_1samp(sample, popmean = 2, alternative = \"two-sided\")\n",
    "print(\"The t statistic of our sample is: {:.2f} and the corresponding p-value is: {:.2f}\".format(t_statistic, p_value))"
   ]
  },
  {
   "cell_type": "code",
   "execution_count": 5,
   "id": "5bcad29a",
   "metadata": {},
   "outputs": [
    {
     "name": "stdout",
     "output_type": "stream",
     "text": [
      "Population mean is: 42.14\n",
      "Population standard deviation is: 0.68\n",
      "\n",
      "Our sample mean is: 42.14\n",
      "Our sample standard deviation is: 0.65\n",
      "The sem is: 0.21\n",
      "\n",
      "Our statistic is: 0.00\n",
      "The p-value corresponding to our statistic is: 1.00\n",
      "The significance level is set to 0.05\n"
     ]
    }
   ],
   "source": [
    "sample = data['New machine'].values\n",
    "\n",
    "# Calculating sample mean, sample standard deviation, and standard error of the mean (sem)\n",
    "sample_mean = sample.mean()\n",
    "sample_std = sample.std()\n",
    "sem = sample_std / np.sqrt(len(sample))\n",
    "\n",
    "# Calculating population mean and population standard deviation\n",
    "pop_mean = data['New machine'].mean()\n",
    "pop_std = data['New machine'].std()\n",
    "\n",
    "# Calculating the t-statistic\n",
    "t = (sample_mean - pop_mean) / sem\n",
    "\n",
    "# Calculating the corresponding p-value for a two-tailed test\n",
    "p_value = 2 * (1 - st.t.cdf(np.abs(t), df=len(sample) - 1))\n",
    "\n",
    "# Printing the results\n",
    "print(\"Population mean is: {:.2f}\".format(pop_mean))\n",
    "print(\"Population standard deviation is: {:.2f}\".format(pop_std))\n",
    "print()\n",
    "print(\"Our sample mean is: {:.2f}\".format(sample_mean))\n",
    "print(\"Our sample standard deviation is: {:.2f}\".format(sample_std))\n",
    "print(\"The sem is: {:.2f}\".format(sem))\n",
    "print()\n",
    "print(\"Our statistic is: {:.2f}\".format(t))\n",
    "print(\"The p-value corresponding to our statistic is: {:.2f}\".format(p_value))\n",
    "print(\"The significance level is set to 0.05\")\n"
   ]
  },
  {
   "cell_type": "code",
   "execution_count": 6,
   "id": "2543eaa5",
   "metadata": {},
   "outputs": [
    {
     "name": "stdout",
     "output_type": "stream",
     "text": [
      "The t statistic of our sample is: 144.35 and the corresponding one-tailed p-value is: 0.00\n"
     ]
    }
   ],
   "source": [
    "# Selecting the 'New machine' column for the one-sample t-test and converting it to a NumPy array\n",
    "sample1 = data['    Old machine'].values\n",
    "\n",
    "# Performing one-sample t-test\n",
    "popmean = 9  # Population mean for comparison\n",
    "t_statistic, p_value = st.ttest_1samp(sample1, popmean=popmean)\n",
    "\n",
    "# One-tailed test - dividing p-value by 2 to get the one-tailed p-value\n",
    "one_tailed_p_value = p_value / 2\n",
    "\n",
    "# Printing the results\n",
    "print(\"The t statistic of our sample is: {:.2f} and the corresponding one-tailed p-value is: {:.2f}\".format(t_statistic, one_tailed_p_value))"
   ]
  },
  {
   "cell_type": "code",
   "execution_count": 7,
   "id": "ebb0e311",
   "metadata": {},
   "outputs": [
    {
     "name": "stdout",
     "output_type": "stream",
     "text": [
      "Population mean is: 43.23\n",
      "Population standard deviation is: 0.75\n",
      "\n",
      "Our sample mean is: 43.23\n",
      "Our sample standard deviation is: 0.71\n",
      "The sem is: 0.22\n",
      "\n",
      "Our statistic is: 0.00\n",
      "The p-value corresponding to our statistic is: 1.00\n",
      "The significance level is set to 0.05\n"
     ]
    }
   ],
   "source": [
    "sample1 = data['    Old machine'].values\n",
    "\n",
    "# Calculating sample mean, sample standard deviation, and standard error of the mean (sem)\n",
    "sample1_mean = sample1.mean()\n",
    "sample1_std = sample1.std()\n",
    "sem = sample1_std / np.sqrt(len(sample1))\n",
    "\n",
    "# Calculating population mean and population standard deviation\n",
    "pop_mean = data['    Old machine'].mean()\n",
    "pop_std = data['    Old machine'].std()\n",
    "\n",
    "# Calculating the t-statistic\n",
    "t = (sample1_mean - pop_mean) / sem\n",
    "\n",
    "# Calculating the corresponding p-value for a two-tailed test\n",
    "p_value = 2 * (1 - st.t.cdf(np.abs(t), df=len(sample1) - 1))\n",
    "\n",
    "# Printing the results\n",
    "print(\"Population mean is: {:.2f}\".format(pop_mean))\n",
    "print(\"Population standard deviation is: {:.2f}\".format(pop_std))\n",
    "print()\n",
    "print(\"Our sample mean is: {:.2f}\".format(sample1_mean))\n",
    "print(\"Our sample standard deviation is: {:.2f}\".format(sample1_std))\n",
    "print(\"The sem is: {:.2f}\".format(sem))\n",
    "print()\n",
    "print(\"Our statistic is: {:.2f}\".format(t))\n",
    "print(\"The p-value corresponding to our statistic is: {:.2f}\".format(p_value))\n",
    "print(\"The significance level is set to 0.05\")\n"
   ]
  },
  {
   "cell_type": "code",
   "execution_count": 13,
   "id": "a66f0076",
   "metadata": {},
   "outputs": [
    {
     "name": "stdout",
     "output_type": "stream",
     "text": [
      "The t statistic of our sample is: 173.87 and the corresponding p-value is: 0.00\n"
     ]
    }
   ],
   "source": [
    "t_statistic, p_value = st.ttest_1samp(sample1, popmean = 2, alternative = \"two-sided\")\n",
    "print(\"The t statistic of our sample is: {:.2f} and the corresponding p-value is: {:.2f}\".format(t_statistic, p_value))"
   ]
  },
  {
   "cell_type": "code",
   "execution_count": 8,
   "id": "c36106e6",
   "metadata": {},
   "outputs": [
    {
     "data": {
      "text/plain": [
       "Index(['New machine', '    Old machine'], dtype='object')"
      ]
     },
     "execution_count": 8,
     "metadata": {},
     "output_type": "execute_result"
    }
   ],
   "source": [
    "data.columns"
   ]
  },
  {
   "cell_type": "code",
   "execution_count": 9,
   "id": "16f74c27",
   "metadata": {},
   "outputs": [],
   "source": [
    "data2 = pd.read_csv('/Users/jxhn/Desktop/IRONHACK/Week_7/Day_2/Afternoon/lab-t-tests-p-values/files_for_lab/pokemon.csv')"
   ]
  },
  {
   "cell_type": "code",
   "execution_count": 10,
   "id": "9e958583",
   "metadata": {},
   "outputs": [
    {
     "data": {
      "text/html": [
       "<div>\n",
       "<style scoped>\n",
       "    .dataframe tbody tr th:only-of-type {\n",
       "        vertical-align: middle;\n",
       "    }\n",
       "\n",
       "    .dataframe tbody tr th {\n",
       "        vertical-align: top;\n",
       "    }\n",
       "\n",
       "    .dataframe thead th {\n",
       "        text-align: right;\n",
       "    }\n",
       "</style>\n",
       "<table border=\"1\" class=\"dataframe\">\n",
       "  <thead>\n",
       "    <tr style=\"text-align: right;\">\n",
       "      <th></th>\n",
       "      <th>#</th>\n",
       "      <th>Name</th>\n",
       "      <th>Type 1</th>\n",
       "      <th>Type 2</th>\n",
       "      <th>Total</th>\n",
       "      <th>HP</th>\n",
       "      <th>Attack</th>\n",
       "      <th>Defense</th>\n",
       "      <th>Sp. Atk</th>\n",
       "      <th>Sp. Def</th>\n",
       "      <th>Speed</th>\n",
       "      <th>Generation</th>\n",
       "      <th>Legendary</th>\n",
       "    </tr>\n",
       "  </thead>\n",
       "  <tbody>\n",
       "    <tr>\n",
       "      <th>0</th>\n",
       "      <td>1</td>\n",
       "      <td>Bulbasaur</td>\n",
       "      <td>Grass</td>\n",
       "      <td>Poison</td>\n",
       "      <td>318</td>\n",
       "      <td>45</td>\n",
       "      <td>49</td>\n",
       "      <td>49</td>\n",
       "      <td>65</td>\n",
       "      <td>65</td>\n",
       "      <td>45</td>\n",
       "      <td>1</td>\n",
       "      <td>False</td>\n",
       "    </tr>\n",
       "    <tr>\n",
       "      <th>1</th>\n",
       "      <td>2</td>\n",
       "      <td>Ivysaur</td>\n",
       "      <td>Grass</td>\n",
       "      <td>Poison</td>\n",
       "      <td>405</td>\n",
       "      <td>60</td>\n",
       "      <td>62</td>\n",
       "      <td>63</td>\n",
       "      <td>80</td>\n",
       "      <td>80</td>\n",
       "      <td>60</td>\n",
       "      <td>1</td>\n",
       "      <td>False</td>\n",
       "    </tr>\n",
       "    <tr>\n",
       "      <th>2</th>\n",
       "      <td>3</td>\n",
       "      <td>Venusaur</td>\n",
       "      <td>Grass</td>\n",
       "      <td>Poison</td>\n",
       "      <td>525</td>\n",
       "      <td>80</td>\n",
       "      <td>82</td>\n",
       "      <td>83</td>\n",
       "      <td>100</td>\n",
       "      <td>100</td>\n",
       "      <td>80</td>\n",
       "      <td>1</td>\n",
       "      <td>False</td>\n",
       "    </tr>\n",
       "    <tr>\n",
       "      <th>3</th>\n",
       "      <td>3</td>\n",
       "      <td>VenusaurMega Venusaur</td>\n",
       "      <td>Grass</td>\n",
       "      <td>Poison</td>\n",
       "      <td>625</td>\n",
       "      <td>80</td>\n",
       "      <td>100</td>\n",
       "      <td>123</td>\n",
       "      <td>122</td>\n",
       "      <td>120</td>\n",
       "      <td>80</td>\n",
       "      <td>1</td>\n",
       "      <td>False</td>\n",
       "    </tr>\n",
       "    <tr>\n",
       "      <th>4</th>\n",
       "      <td>4</td>\n",
       "      <td>Charmander</td>\n",
       "      <td>Fire</td>\n",
       "      <td>NaN</td>\n",
       "      <td>309</td>\n",
       "      <td>39</td>\n",
       "      <td>52</td>\n",
       "      <td>43</td>\n",
       "      <td>60</td>\n",
       "      <td>50</td>\n",
       "      <td>65</td>\n",
       "      <td>1</td>\n",
       "      <td>False</td>\n",
       "    </tr>\n",
       "  </tbody>\n",
       "</table>\n",
       "</div>"
      ],
      "text/plain": [
       "   #                   Name Type 1  Type 2  Total  HP  Attack  Defense  \\\n",
       "0  1              Bulbasaur  Grass  Poison    318  45      49       49   \n",
       "1  2                Ivysaur  Grass  Poison    405  60      62       63   \n",
       "2  3               Venusaur  Grass  Poison    525  80      82       83   \n",
       "3  3  VenusaurMega Venusaur  Grass  Poison    625  80     100      123   \n",
       "4  4             Charmander   Fire     NaN    309  39      52       43   \n",
       "\n",
       "   Sp. Atk  Sp. Def  Speed  Generation  Legendary  \n",
       "0       65       65     45           1      False  \n",
       "1       80       80     60           1      False  \n",
       "2      100      100     80           1      False  \n",
       "3      122      120     80           1      False  \n",
       "4       60       50     65           1      False  "
      ]
     },
     "execution_count": 10,
     "metadata": {},
     "output_type": "execute_result"
    }
   ],
   "source": [
    "data2.head()"
   ]
  },
  {
   "cell_type": "code",
   "execution_count": 21,
   "id": "9360139b",
   "metadata": {},
   "outputs": [
    {
     "data": {
      "text/html": [
       "<div>\n",
       "<style scoped>\n",
       "    .dataframe tbody tr th:only-of-type {\n",
       "        vertical-align: middle;\n",
       "    }\n",
       "\n",
       "    .dataframe tbody tr th {\n",
       "        vertical-align: top;\n",
       "    }\n",
       "\n",
       "    .dataframe thead th {\n",
       "        text-align: right;\n",
       "    }\n",
       "</style>\n",
       "<table border=\"1\" class=\"dataframe\">\n",
       "  <thead>\n",
       "    <tr style=\"text-align: right;\">\n",
       "      <th></th>\n",
       "      <th>#</th>\n",
       "      <th>Name</th>\n",
       "      <th>Type 1</th>\n",
       "      <th>Type 2</th>\n",
       "      <th>Total</th>\n",
       "      <th>HP</th>\n",
       "      <th>Attack</th>\n",
       "      <th>Defense</th>\n",
       "      <th>Sp. Atk</th>\n",
       "      <th>Sp. Def</th>\n",
       "      <th>Speed</th>\n",
       "      <th>Generation</th>\n",
       "      <th>Legendary</th>\n",
       "      <th>difference</th>\n",
       "    </tr>\n",
       "  </thead>\n",
       "  <tbody>\n",
       "    <tr>\n",
       "      <th>8</th>\n",
       "      <td>6</td>\n",
       "      <td>CharizardMega Charizard Y</td>\n",
       "      <td>Fire</td>\n",
       "      <td>Flying</td>\n",
       "      <td>634</td>\n",
       "      <td>78</td>\n",
       "      <td>104</td>\n",
       "      <td>78</td>\n",
       "      <td>159</td>\n",
       "      <td>115</td>\n",
       "      <td>100</td>\n",
       "      <td>1</td>\n",
       "      <td>False</td>\n",
       "      <td>26</td>\n",
       "    </tr>\n",
       "    <tr>\n",
       "      <th>510</th>\n",
       "      <td>460</td>\n",
       "      <td>Abomasnow</td>\n",
       "      <td>Grass</td>\n",
       "      <td>Ice</td>\n",
       "      <td>494</td>\n",
       "      <td>90</td>\n",
       "      <td>92</td>\n",
       "      <td>75</td>\n",
       "      <td>92</td>\n",
       "      <td>85</td>\n",
       "      <td>60</td>\n",
       "      <td>4</td>\n",
       "      <td>False</td>\n",
       "      <td>17</td>\n",
       "    </tr>\n",
       "    <tr>\n",
       "      <th>175</th>\n",
       "      <td>161</td>\n",
       "      <td>Sentret</td>\n",
       "      <td>Normal</td>\n",
       "      <td>NaN</td>\n",
       "      <td>215</td>\n",
       "      <td>35</td>\n",
       "      <td>46</td>\n",
       "      <td>34</td>\n",
       "      <td>35</td>\n",
       "      <td>45</td>\n",
       "      <td>20</td>\n",
       "      <td>2</td>\n",
       "      <td>False</td>\n",
       "      <td>12</td>\n",
       "    </tr>\n",
       "    <tr>\n",
       "      <th>735</th>\n",
       "      <td>667</td>\n",
       "      <td>Litleo</td>\n",
       "      <td>Fire</td>\n",
       "      <td>Normal</td>\n",
       "      <td>369</td>\n",
       "      <td>62</td>\n",
       "      <td>50</td>\n",
       "      <td>58</td>\n",
       "      <td>73</td>\n",
       "      <td>54</td>\n",
       "      <td>72</td>\n",
       "      <td>6</td>\n",
       "      <td>False</td>\n",
       "      <td>-8</td>\n",
       "    </tr>\n",
       "    <tr>\n",
       "      <th>242</th>\n",
       "      <td>224</td>\n",
       "      <td>Octillery</td>\n",
       "      <td>Water</td>\n",
       "      <td>NaN</td>\n",
       "      <td>480</td>\n",
       "      <td>75</td>\n",
       "      <td>105</td>\n",
       "      <td>75</td>\n",
       "      <td>105</td>\n",
       "      <td>75</td>\n",
       "      <td>45</td>\n",
       "      <td>2</td>\n",
       "      <td>False</td>\n",
       "      <td>30</td>\n",
       "    </tr>\n",
       "  </tbody>\n",
       "</table>\n",
       "</div>"
      ],
      "text/plain": [
       "       #                       Name  Type 1  Type 2  Total  HP  Attack  \\\n",
       "8      6  CharizardMega Charizard Y    Fire  Flying    634  78     104   \n",
       "510  460                  Abomasnow   Grass     Ice    494  90      92   \n",
       "175  161                    Sentret  Normal     NaN    215  35      46   \n",
       "735  667                     Litleo    Fire  Normal    369  62      50   \n",
       "242  224                  Octillery   Water     NaN    480  75     105   \n",
       "\n",
       "     Defense  Sp. Atk  Sp. Def  Speed  Generation  Legendary  difference  \n",
       "8         78      159      115    100           1      False          26  \n",
       "510       75       92       85     60           4      False          17  \n",
       "175       34       35       45     20           2      False          12  \n",
       "735       58       73       54     72           6      False          -8  \n",
       "242       75      105       75     45           2      False          30  "
      ]
     },
     "execution_count": 21,
     "metadata": {},
     "output_type": "execute_result"
    }
   ],
   "source": [
    "sample5 = data2.sample(30, random_state = 1)\n",
    "sample5['difference'] = sample5['Attack']-sample5['Defense']\n",
    "sample5.head()"
   ]
  },
  {
   "cell_type": "code",
   "execution_count": 22,
   "id": "2184d89a",
   "metadata": {},
   "outputs": [
    {
     "data": {
      "text/plain": [
       "(2.8, 36.32079294288603)"
      ]
     },
     "execution_count": 22,
     "metadata": {},
     "output_type": "execute_result"
    }
   ],
   "source": [
    "sample_diff_mean, sample_diff_std = sample5['difference'].mean(), sample5['difference'].std(ddof=1)\n",
    "sample_diff_mean, sample_diff_std"
   ]
  },
  {
   "cell_type": "code",
   "execution_count": 23,
   "id": "8934d54f",
   "metadata": {},
   "outputs": [
    {
     "name": "stdout",
     "output_type": "stream",
     "text": [
      "The mean of our samples differences is: 2.80\n",
      "The standard deviation of our samples differences is: 36.32\n",
      "Our t statistics is: 0.42\n"
     ]
    }
   ],
   "source": [
    "t = sample_diff_mean / ( sample_diff_std / np.sqrt(sample5.shape[0]) )\n",
    "print(\"The mean of our samples differences is: {:.2f}\".format(sample_diff_mean))\n",
    "print(\"The standard deviation of our samples differences is: {:.2f}\".format(sample_diff_std))\n",
    "print(\"Our t statistics is: {:.2f}\".format(t))"
   ]
  },
  {
   "cell_type": "code",
   "execution_count": 24,
   "id": "05a0d3d5",
   "metadata": {},
   "outputs": [
    {
     "data": {
      "text/plain": [
       "2.0452296421327034"
      ]
     },
     "execution_count": 24,
     "metadata": {},
     "output_type": "execute_result"
    }
   ],
   "source": [
    "tc = st.t.ppf(1-(0.05/2),df= sample5.shape[0] - 1)\n",
    "tc"
   ]
  },
  {
   "cell_type": "code",
   "execution_count": 25,
   "id": "547ad64c",
   "metadata": {},
   "outputs": [
    {
     "data": {
      "text/plain": [
       "0.34137754990668046"
      ]
     },
     "execution_count": 25,
     "metadata": {},
     "output_type": "execute_result"
    }
   ],
   "source": [
    "1-st.t.cdf(t,df = sample.shape[0] - 1)"
   ]
  },
  {
   "cell_type": "code",
   "execution_count": 27,
   "id": "447cc386",
   "metadata": {},
   "outputs": [
    {
     "data": {
      "text/plain": [
       "TtestResult(statistic=0.4222438544846934, pvalue=0.6759611742317202, df=29)"
      ]
     },
     "execution_count": 27,
     "metadata": {},
     "output_type": "execute_result"
    }
   ],
   "source": [
    "# Another way.\n",
    "st.ttest_rel(sample5['Attack'],sample5['Defense'])"
   ]
  },
  {
   "cell_type": "code",
   "execution_count": 28,
   "id": "946f3930",
   "metadata": {},
   "outputs": [],
   "source": [
    "data3 = pd.read_excel('/Users/jxhn/Desktop/IRONHACK/Week_7/Day_2/Afternoon/lab-t-tests-p-values/files_for_lab/anova_lab_data.xlsx')"
   ]
  },
  {
   "cell_type": "code",
   "execution_count": 29,
   "id": "7f6143d7",
   "metadata": {},
   "outputs": [
    {
     "data": {
      "text/html": [
       "<div>\n",
       "<style scoped>\n",
       "    .dataframe tbody tr th:only-of-type {\n",
       "        vertical-align: middle;\n",
       "    }\n",
       "\n",
       "    .dataframe tbody tr th {\n",
       "        vertical-align: top;\n",
       "    }\n",
       "\n",
       "    .dataframe thead th {\n",
       "        text-align: right;\n",
       "    }\n",
       "</style>\n",
       "<table border=\"1\" class=\"dataframe\">\n",
       "  <thead>\n",
       "    <tr style=\"text-align: right;\">\n",
       "      <th></th>\n",
       "      <th>Power</th>\n",
       "      <th>Etching Rate</th>\n",
       "    </tr>\n",
       "  </thead>\n",
       "  <tbody>\n",
       "    <tr>\n",
       "      <th>0</th>\n",
       "      <td>160 W</td>\n",
       "      <td>5.43</td>\n",
       "    </tr>\n",
       "    <tr>\n",
       "      <th>1</th>\n",
       "      <td>180 W</td>\n",
       "      <td>6.24</td>\n",
       "    </tr>\n",
       "    <tr>\n",
       "      <th>2</th>\n",
       "      <td>200 W</td>\n",
       "      <td>8.79</td>\n",
       "    </tr>\n",
       "    <tr>\n",
       "      <th>3</th>\n",
       "      <td>160 W</td>\n",
       "      <td>5.71</td>\n",
       "    </tr>\n",
       "    <tr>\n",
       "      <th>4</th>\n",
       "      <td>180 W</td>\n",
       "      <td>6.71</td>\n",
       "    </tr>\n",
       "  </tbody>\n",
       "</table>\n",
       "</div>"
      ],
      "text/plain": [
       "  Power   Etching Rate\n",
       "0  160 W          5.43\n",
       "1  180 W          6.24\n",
       "2  200 W          8.79\n",
       "3  160 W          5.71\n",
       "4  180 W          6.71"
      ]
     },
     "execution_count": 29,
     "metadata": {},
     "output_type": "execute_result"
    }
   ],
   "source": [
    "data3.head()"
   ]
  },
  {
   "cell_type": "code",
   "execution_count": 32,
   "id": "9db039b6",
   "metadata": {},
   "outputs": [
    {
     "data": {
      "text/plain": [
       "Power   Etching Rate\n",
       "160 W   5.43            1\n",
       "        5.59            1\n",
       "        5.71            1\n",
       "        6.01            1\n",
       "        6.22            1\n",
       "180 W   5.66            1\n",
       "        5.98            1\n",
       "        6.24            1\n",
       "        6.60            1\n",
       "        6.71            1\n",
       "200 W   7.55            1\n",
       "        7.90            1\n",
       "        8.15            1\n",
       "        8.79            1\n",
       "        9.20            1\n",
       "dtype: int64"
      ]
     },
     "execution_count": 32,
     "metadata": {},
     "output_type": "execute_result"
    }
   ],
   "source": [
    "data3.value_counts()"
   ]
  },
  {
   "cell_type": "code",
   "execution_count": 34,
   "id": "6266c2e9",
   "metadata": {},
   "outputs": [
    {
     "data": {
      "text/plain": [
       "Index(['Power ', 'Etching Rate'], dtype='object')"
      ]
     },
     "execution_count": 34,
     "metadata": {},
     "output_type": "execute_result"
    }
   ],
   "source": [
    "data3.columns"
   ]
  },
  {
   "cell_type": "code",
   "execution_count": 35,
   "id": "2d4c9e56",
   "metadata": {},
   "outputs": [
    {
     "name": "stdout",
     "output_type": "stream",
     "text": [
      "F_onewayResult(statistic=36.87895470100505, pvalue=7.506584272358903e-06)\n"
     ]
    }
   ],
   "source": [
    "print(st.f_oneway(data3[data3['Power '] == '160 W']['Etching Rate'],data3[data3['Power '] == '180 W']['Etching Rate'],\n",
    "                  data3[data3['Power '] == '200 W']['Etching Rate']))"
   ]
  },
  {
   "cell_type": "code",
   "execution_count": 37,
   "id": "21a3a58c",
   "metadata": {},
   "outputs": [
    {
     "name": "stdout",
     "output_type": "stream",
     "text": [
      "The extremely small p-value (much less than the significance level of 0.05) suggests that there is strong evidence to reject the null hypothesis. The null hypothesis typically states that the means of all groups are equal.Since the p-value is significantly less than 0.05, we can conclude that there are significant differences in the 'Etching Rate' across the three power levels (160 W, 180 W, and 200 W). In other words, at least one of these power levels has a significantly different 'Etching Rate' compared to the others.\n"
     ]
    }
   ],
   "source": [
    "print(\"The extremely small p-value (much less than the significance level of 0.05) suggests that there is strong evidence to reject the null hypothesis. The null hypothesis typically states that the means of all groups are equal.Since the p-value is significantly less than 0.05, we can conclude that there are significant differences in the 'Etching Rate' across the three power levels (160 W, 180 W, and 200 W). In other words, at least one of these power levels has a significantly different 'Etching Rate' compared to the others.\")"
   ]
  },
  {
   "cell_type": "code",
   "execution_count": null,
   "id": "1f1be97f",
   "metadata": {},
   "outputs": [],
   "source": []
  }
 ],
 "metadata": {
  "kernelspec": {
   "display_name": "Python 3 (ipykernel)",
   "language": "python",
   "name": "python3"
  },
  "language_info": {
   "codemirror_mode": {
    "name": "ipython",
    "version": 3
   },
   "file_extension": ".py",
   "mimetype": "text/x-python",
   "name": "python",
   "nbconvert_exporter": "python",
   "pygments_lexer": "ipython3",
   "version": "3.10.9"
  }
 },
 "nbformat": 4,
 "nbformat_minor": 5
}
